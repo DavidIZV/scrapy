{
  "cells": [
    {
      "cell_type": "markdown",
      "metadata": {
        "id": "FMOSqK11gegm"
      },
      "source": [
        "# Entrenamiento"
      ]
    },
    {
      "cell_type": "markdown",
      "metadata": {
        "id": "SquMRWVhgvmk"
      },
      "source": [
        "## 1. Preprocesado"
      ]
    },
    {
      "cell_type": "markdown",
      "metadata": {
        "id": "uJTP_3sjBAOf"
      },
      "source": [
        "### 1.1. Lectura"
      ]
    },
    {
      "cell_type": "code",
      "execution_count": 19,
      "metadata": {
        "id": "quL1bvsuIaKT"
      },
      "outputs": [],
      "source": [
        "import json\n",
        "url, names, all_dictionaries = \"./../generated/ml/models/\", [ 'dictionary_manual_values.json' ], {}\n",
        "\n",
        "for name in names:\n",
        "    destiny = url + name.replace(' ', '%20')\n",
        "    try:\n",
        "        f = open(destiny, 'rb')\n",
        "        all_dictionaries=json.loads(f.read())\n",
        "    except OSError:\n",
        "        print(\"No hay diccionario previo\")\n",
        "        all_dictionaries={}"
      ]
    },
    {
      "cell_type": "code",
      "execution_count": 20,
      "metadata": {},
      "outputs": [],
      "source": [
        "url, names, all_dictionaries = \"./../generated/ml/models/\", [ 'dictionary_manual_values.json' ], {}\n",
        "\n",
        "for name in names:\n",
        "    destiny = url + name.replace(' ', '%20')\n",
        "    try:\n",
        "        f = open(destiny, 'rb')\n",
        "        all_dictionaries=json.loads(f.read())\n",
        "    except OSError:\n",
        "        print(\"No hay diccionario previo\")\n",
        "        all_dictionaries={}"
      ]
    },
    {
      "cell_type": "code",
      "execution_count": 21,
      "metadata": {
        "colab": {
          "base_uri": "https://localhost:8080/"
        },
        "id": "JdiOU40anGxc",
        "outputId": "9b8c9574-e2ee-4a2f-ad54-05efb8cf9c7b"
      },
      "outputs": [
        {
          "data": {
            "text/plain": [
              "{'make': {'ALFA ROMEO': 500,\n",
              "  'AUDI': 1500,\n",
              "  'MAZDA': 2500,\n",
              "  'BMW': 3500,\n",
              "  'CITROEN': 4500,\n",
              "  'DACIA': 5500,\n",
              "  'FIAT': 6500,\n",
              "  'FORD': 7500,\n",
              "  'HONDA': 8500,\n",
              "  'HYUNDAI': 9500,\n",
              "  'JAGUAR': 10500,\n",
              "  'JEEP': 11500,\n",
              "  'KIA': 12500,\n",
              "  'LEXUS': 13500,\n",
              "  'MERCEDES-BENZ': 14500,\n",
              "  'MITSUBISHI': 15500,\n",
              "  'MINI': 16500,\n",
              "  'NISSAN': 17500,\n",
              "  'PORSCHE': 18500,\n",
              "  'OPEL': 19500,\n",
              "  'SKODA': 20500,\n",
              "  'PEUGEOT': 21500,\n",
              "  'VOLVO': 22500,\n",
              "  'RENAULT': 23500,\n",
              "  'SEAT': 24500,\n",
              "  'TOYOTA': 25500,\n",
              "  'VOLKSWAGEN': 26500},\n",
              " 'transmissionType': {'COMMON.TRANSMISSION_AUTOMATIC': 0,\n",
              "  'COMMON.TRANSMISSION_MANUAL': 1},\n",
              " 'seller_type': {'profesional': 0},\n",
              " 'bodyType': {'BODY_TYPE_4X4': 500,\n",
              "  'BODY_TYPE_SEDAN': 700,\n",
              "  'BODY_TYPE_CABRIO': 900,\n",
              "  'BODY_TYPE_FAMILIAR': 1100,\n",
              "  'BODY_TYPE_COUPE': 1300,\n",
              "  'BODY_TYPE_MINIVAN': 1500}}"
            ]
          },
          "execution_count": 21,
          "metadata": {},
          "output_type": "execute_result"
        }
      ],
      "source": [
        "all_dictionaries"
      ]
    },
    {
      "cell_type": "code",
      "execution_count": 22,
      "metadata": {
        "colab": {
          "base_uri": "https://localhost:8080/"
        },
        "id": "p5hF7vNqgdcT",
        "outputId": "2fa95906-0bb8-4435-b0c7-b03fafc2c20c"
      },
      "outputs": [
        {
          "name": "stdout",
          "output_type": "stream",
          "text": [
            "Cargando: ./../generated/ml/preprocess/all.csv\n"
          ]
        }
      ],
      "source": [
        "import pandas as pd\n",
        "\n",
        "url, names, dataframes = \"./../generated/ml/preprocess/\", [ 'all.csv' ], []\n",
        "\n",
        "for name in names:\n",
        "  destiny = url + name.replace(' ', '%20')\n",
        "  print('Cargando: ' + destiny)\n",
        "  if 'csv' in name:\n",
        "    dataframes.append(pd.read_csv(destiny, delimiter=',', decimal=\".\", thousands=None))\n",
        "  else:\n",
        "    dataframes.append(pd.read_json(destiny))"
      ]
    },
    {
      "cell_type": "code",
      "execution_count": 23,
      "metadata": {
        "id": "FyKFBHf9hRmq"
      },
      "outputs": [],
      "source": [
        "all = pd.concat(dataframes)"
      ]
    },
    {
      "cell_type": "markdown",
      "metadata": {
        "id": "0SfS7ULIBEvX"
      },
      "source": [
        "### 1.2. Procesado de datos nulos"
      ]
    },
    {
      "cell_type": "code",
      "execution_count": 24,
      "metadata": {
        "colab": {
          "base_uri": "https://localhost:8080/"
        },
        "id": "o7atPXU7geHo",
        "outputId": "21df5d50-5788-45cb-f4ba-02656465bae9"
      },
      "outputs": [
        {
          "name": "stdout",
          "output_type": "stream",
          "text": [
            "Datos iniciales | Longitud: 5086 | Num Columns: 36\n",
            "Eliminados na or null on columns | Longitud: 5086 | Num Columns: 36\n",
            "Eliminados na or null on rows | Longitud: 5086 | Num Columns: 36\n",
            "Eliminados duplicados | Longitud: 5086 | Num Columns: 36\n",
            "Datos finales | Longitud: 5086 | Num Columns: 36\n"
          ]
        }
      ],
      "source": [
        "print(\"Datos iniciales | Longitud: {} | Num Columns: {}\".format(len(all), len(all.columns)))\n",
        "all=all.dropna(axis=1,how='all')\n",
        "print(\"Eliminados na or null on columns | Longitud: {} | Num Columns: {}\".format(len(all), len(all.columns)))\n",
        "all=all.dropna(axis=0)\n",
        "print(\"Eliminados na or null on rows | Longitud: {} | Num Columns: {}\".format(len(all), len(all.columns)))\n",
        "all=all.drop_duplicates()\n",
        "all=all.drop_duplicates(subset=['id'], keep='first')\n",
        "print(\"Eliminados duplicados | Longitud: {} | Num Columns: {}\".format(len(all), len(all.columns)))\n",
        "print(\"Datos finales | Longitud: {} | Num Columns: {}\".format(len(all), len(all.columns)))"
      ]
    },
    {
      "cell_type": "markdown",
      "metadata": {
        "id": "BNwrv-HbGWhh"
      },
      "source": [
        "### 1.3. Procesado columnas"
      ]
    },
    {
      "cell_type": "code",
      "execution_count": 25,
      "metadata": {
        "id": "dBjBWI8rGfcj"
      },
      "outputs": [],
      "source": [
        "columns_to_drop=['id','color','fuelTypeId','makeId','province','provinceId','title','transmissionTypeId','brand_id','luggageCapacity','consumptionAverage','consumptionExtraUrban','model_id','manufacturerPrice','seats','weight','emissions','fuelTankCapacity','height','luggageCapacity','brand','doors','topSpeed','consumptionUrban','model']\n",
        "all=all.drop(columns_to_drop, axis = 1)"
      ]
    },
    {
      "cell_type": "code",
      "execution_count": 26,
      "metadata": {
        "id": "26odtUsqPCU7"
      },
      "outputs": [],
      "source": [
        "def columns_numeric_type(df,columns_names):\n",
        "  for columns_name in columns_names:\n",
        "    df[column_name]=pd.to_numeric(df[column_name])\n",
        "  return df"
      ]
    },
    {
      "cell_type": "code",
      "execution_count": 27,
      "metadata": {
        "colab": {
          "base_uri": "https://localhost:8080/"
        },
        "id": "-T2IxwUAGfgg",
        "outputId": "29ab4eea-4fc8-432f-c677-b35df06c5adb"
      },
      "outputs": [
        {
          "name": "stdout",
          "output_type": "stream",
          "text": [
            "make 27\n",
            "transmissionType 2\n",
            "seller_type 1\n",
            "bodyType 6\n"
          ]
        }
      ],
      "source": [
        "qualitative_variable_names = [ e for e in all.select_dtypes(['object']).columns ]\n",
        "for column_name in qualitative_variable_names:\n",
        "  print(column_name, len(all[column_name].unique()))"
      ]
    },
    {
      "cell_type": "code",
      "execution_count": 28,
      "metadata": {
        "id": "k7mZOI-gKUmS"
      },
      "outputs": [],
      "source": [
        "import operator\n",
        "\n",
        "def replace_for_numeric(df,column_name,initial,increaser,value_dictionary={}):\n",
        "  values=df[column_name].unique()\n",
        "  pos=initial\n",
        "  if len(value_dictionary) > 0:\n",
        "    max_dictionary=max(value_dictionary.items(), key=operator.itemgetter(1))[1]\n",
        "  else:\n",
        "    max_dictionary=initial\n",
        "  if max_dictionary > pos:\n",
        "    pos=max_dictionary+increaser\n",
        "  for value in values:\n",
        "    if value not in value_dictionary:\n",
        "      value_dictionary[value]=pos\n",
        "      df.loc[df[column_name] == value, column_name] = pos\n",
        "      pos=pos+increaser\n",
        "    else:\n",
        "      df.loc[df[column_name] == value, column_name] = value_dictionary[value]\n",
        "  df[column_name]=pd.to_numeric(df[column_name])\n",
        "  # print(\"Nuevos valores: \", df[column_name].unique())\n",
        "  return df,value_dictionary"
      ]
    },
    {
      "cell_type": "code",
      "execution_count": 29,
      "metadata": {
        "colab": {
          "base_uri": "https://localhost:8080/"
        },
        "id": "D2UhwXj2Ilfe",
        "outputId": "9c89cabc-bf87-48f6-8c95-d3a3248be10b"
      },
      "outputs": [
        {
          "name": "stdout",
          "output_type": "stream",
          "text": [
            "{'make': {'ALFA ROMEO': 500, 'AUDI': 1500, 'MAZDA': 2500, 'BMW': 3500, 'CITROEN': 4500, 'DACIA': 5500, 'FIAT': 6500, 'FORD': 7500, 'HONDA': 8500, 'HYUNDAI': 9500, 'JAGUAR': 10500, 'JEEP': 11500, 'KIA': 12500, 'LEXUS': 13500, 'MERCEDES-BENZ': 14500, 'MITSUBISHI': 15500, 'MINI': 16500, 'NISSAN': 17500, 'PORSCHE': 18500, 'OPEL': 19500, 'SKODA': 20500, 'PEUGEOT': 21500, 'VOLVO': 22500, 'RENAULT': 23500, 'SEAT': 24500, 'TOYOTA': 25500, 'VOLKSWAGEN': 26500}, 'transmissionType': {'COMMON.TRANSMISSION_AUTOMATIC': 0, 'COMMON.TRANSMISSION_MANUAL': 1}, 'seller_type': {'profesional': 0}, 'bodyType': {'BODY_TYPE_4X4': 500, 'BODY_TYPE_SEDAN': 700, 'BODY_TYPE_CABRIO': 900, 'BODY_TYPE_FAMILIAR': 1100, 'BODY_TYPE_COUPE': 1300, 'BODY_TYPE_MINIVAN': 1500}}\n"
          ]
        }
      ],
      "source": [
        "all,word_dictionary=replace_for_numeric(all,'make',500,1000,all_dictionaries.get('make', {}))\n",
        "all_dictionaries['make']=word_dictionary\n",
        "all,word_dictionary=replace_for_numeric(all,'transmissionType',0,1,all_dictionaries.get('transmissionType', {}))\n",
        "all_dictionaries['transmissionType']=word_dictionary\n",
        "all,word_dictionary=replace_for_numeric(all,'seller_type',0,1,all_dictionaries.get('seller_type', {}))\n",
        "all_dictionaries['seller_type']=word_dictionary\n",
        "all,word_dictionary=replace_for_numeric(all,'bodyType',500,200,all_dictionaries.get('bodyType', {}))\n",
        "all_dictionaries['bodyType']=word_dictionary\n",
        "print(all_dictionaries)"
      ]
    },
    {
      "cell_type": "code",
      "execution_count": 30,
      "metadata": {},
      "outputs": [
        {
          "data": {
            "text/html": [
              "<div>\n",
              "<style scoped>\n",
              "    .dataframe tbody tr th:only-of-type {\n",
              "        vertical-align: middle;\n",
              "    }\n",
              "\n",
              "    .dataframe tbody tr th {\n",
              "        vertical-align: top;\n",
              "    }\n",
              "\n",
              "    .dataframe thead th {\n",
              "        text-align: right;\n",
              "    }\n",
              "</style>\n",
              "<table border=\"1\" class=\"dataframe\">\n",
              "  <thead>\n",
              "    <tr style=\"text-align: right;\">\n",
              "      <th></th>\n",
              "      <th>km</th>\n",
              "      <th>make</th>\n",
              "      <th>transmissionType</th>\n",
              "      <th>year</th>\n",
              "      <th>price</th>\n",
              "      <th>seller_type</th>\n",
              "      <th>bodyType</th>\n",
              "      <th>cubicCapacity</th>\n",
              "      <th>hp</th>\n",
              "      <th>acceleration</th>\n",
              "      <th>length</th>\n",
              "      <th>width</th>\n",
              "    </tr>\n",
              "  </thead>\n",
              "  <tbody>\n",
              "    <tr>\n",
              "      <th>5084</th>\n",
              "      <td>64914</td>\n",
              "      <td>26500</td>\n",
              "      <td>0</td>\n",
              "      <td>2016</td>\n",
              "      <td>25990</td>\n",
              "      <td>0</td>\n",
              "      <td>700</td>\n",
              "      <td>1968.0</td>\n",
              "      <td>184.0</td>\n",
              "      <td>7.5</td>\n",
              "      <td>4268.0</td>\n",
              "      <td>1799.0</td>\n",
              "    </tr>\n",
              "    <tr>\n",
              "      <th>5085</th>\n",
              "      <td>66760</td>\n",
              "      <td>26500</td>\n",
              "      <td>0</td>\n",
              "      <td>2019</td>\n",
              "      <td>36099</td>\n",
              "      <td>0</td>\n",
              "      <td>500</td>\n",
              "      <td>1968.0</td>\n",
              "      <td>190.0</td>\n",
              "      <td>7.9</td>\n",
              "      <td>4486.0</td>\n",
              "      <td>1839.0</td>\n",
              "    </tr>\n",
              "  </tbody>\n",
              "</table>\n",
              "</div>"
            ],
            "text/plain": [
              "         km   make  transmissionType  year  price  seller_type  bodyType  \\\n",
              "5084  64914  26500                 0  2016  25990            0       700   \n",
              "5085  66760  26500                 0  2019  36099            0       500   \n",
              "\n",
              "      cubicCapacity     hp  acceleration  length   width  \n",
              "5084         1968.0  184.0           7.5  4268.0  1799.0  \n",
              "5085         1968.0  190.0           7.9  4486.0  1839.0  "
            ]
          },
          "execution_count": 30,
          "metadata": {},
          "output_type": "execute_result"
        }
      ],
      "source": [
        "all.tail(2)"
      ]
    },
    {
      "cell_type": "markdown",
      "metadata": {
        "id": "u-vd_WdDFxuH"
      },
      "source": [
        "### 1.5. Split"
      ]
    },
    {
      "cell_type": "code",
      "execution_count": 31,
      "metadata": {
        "id": "1jVcf8j_UWGe"
      },
      "outputs": [],
      "source": [
        "from sklearn.model_selection import train_test_split as tts\n",
        "\n",
        "all_x_data = all.drop('price', axis = 1)\n",
        "all_y_data = all['price']\n",
        "\n",
        "x_train, x_test, y_train, y_test = tts(all_x_data, all_y_data, random_state = 1, test_size = 0.20)\n",
        "\n",
        "def print_bests(results, limit=5):\n",
        "  best_results=sorted(results, key = lambda x: x.get('score'), reverse=True)[:limit]\n",
        "  for best_result in best_results:\n",
        "    print(\"score: {} | model_name: {}\".format(best_result.get('score'), best_result.get('model_name')))\n",
        "  return best_results"
      ]
    },
    {
      "cell_type": "markdown",
      "metadata": {
        "id": "h1O1oVsIAyEJ"
      },
      "source": [
        "## 2. Entrenamientos"
      ]
    },
    {
      "cell_type": "markdown",
      "metadata": {
        "id": "mrYJzFe_ihw8"
      },
      "source": [
        "### 2.8. Entrenamiento MLPClassifier"
      ]
    },
    {
      "cell_type": "code",
      "execution_count": 32,
      "metadata": {},
      "outputs": [
        {
          "data": {
            "text/plain": [
              "[MLPRegressor(hidden_layer_sizes=24, max_iter=30000, random_state=1)]"
            ]
          },
          "execution_count": 32,
          "metadata": {},
          "output_type": "execute_result"
        }
      ],
      "source": [
        "from sklearn.neural_network import MLPRegressor as MLP\n",
        "\n",
        "param_activation=['identity', 'logistic', 'tanh', 'relu']\n",
        "param_solver=['lbfgs', 'sgd', 'adam']\n",
        "param_max_iter=30000\n",
        "num_columns=len(all.columns)*2\n",
        "param_hidden_layer=range(num_columns, num_columns+1)\n",
        "mlp_networks=[]\n",
        "\n",
        "# for activation_parameter in param_activation:\n",
        "#   for solver_parameter in param_solver:\n",
        "#     for hidden_layer_parameter in param_hidden_layer:\n",
        "#       mlp_networks.append(MLP(hidden_layer_sizes=hidden_layer_parameter, activation=activation_parameter, solver=solver_parameter, random_state=1, max_iter=param_max_iter))\n",
        "\n",
        "mlp_networks.append(MLP(hidden_layer_sizes=num_columns, random_state=1, max_iter=param_max_iter))\n",
        "\n",
        "mlp_networks"
      ]
    },
    {
      "cell_type": "code",
      "execution_count": 33,
      "metadata": {},
      "outputs": [
        {
          "name": "stdout",
          "output_type": "stream",
          "text": [
            "{'activation': 'relu', 'alpha': 0.0001, 'batch_size': 'auto', 'beta_1': 0.9, 'beta_2': 0.999, 'early_stopping': False, 'epsilon': 1e-08, 'hidden_layer_sizes': 24, 'learning_rate': 'constant', 'learning_rate_init': 0.001, 'max_fun': 15000, 'max_iter': 30000, 'momentum': 0.9, 'n_iter_no_change': 10, 'nesterovs_momentum': True, 'power_t': 0.5, 'random_state': 1, 'shuffle': True, 'solver': 'adam', 'tol': 0.0001, 'validation_fraction': 0.1, 'verbose': False, 'warm_start': False}\n"
          ]
        }
      ],
      "source": [
        "for network in mlp_networks:\n",
        "  print(network.get_params(True))\n",
        "  network.fit(x_train, y_train)"
      ]
    },
    {
      "cell_type": "code",
      "execution_count": 34,
      "metadata": {},
      "outputs": [],
      "source": [
        "mlp_models=[]\n",
        "\n",
        "for model in mlp_networks:\n",
        "  score=network.score(x_test, y_test)\n",
        "  mlp_models.append({'score': score, 'model': model, 'model_name': model.__class__.__name__})"
      ]
    },
    {
      "cell_type": "markdown",
      "metadata": {
        "id": "__PxIMorxc24"
      },
      "source": [
        "## 3. Resultados"
      ]
    },
    {
      "cell_type": "code",
      "execution_count": 35,
      "metadata": {
        "colab": {
          "base_uri": "https://localhost:8080/"
        },
        "id": "Arf3Was2xc9-",
        "outputId": "dfd6495e-41a7-44a8-f82d-1eff83af17a6"
      },
      "outputs": [
        {
          "name": "stdout",
          "output_type": "stream",
          "text": [
            "score: 0.7972161360831678 | model_name: MLPRegressor\n"
          ]
        }
      ],
      "source": [
        "best_results=mlp_models\n",
        "\n",
        "best_results=print_bests(best_results,1)"
      ]
    },
    {
      "cell_type": "markdown",
      "metadata": {
        "id": "YulgPlkkx2rp"
      },
      "source": [
        "## 4. Guardado de modelos"
      ]
    },
    {
      "cell_type": "code",
      "execution_count": 36,
      "metadata": {
        "id": "I5vyEq41x2yS"
      },
      "outputs": [],
      "source": [
        "import pickle\n",
        "import json\n",
        "\n",
        "for i in range(len(best_results)):\n",
        "  model_to_save = best_results[i]\n",
        "  with open(\"./../generated/ml/models/neural/\" + str(i) + \"_\" + model_to_save.get('model_name') + \"_manual_values_9.pkl\", \"wb\") as file:\n",
        "    pickle.dump(model_to_save['model'], file)\n",
        "\n",
        "with open(\"./../generated/ml/models/dictionary_manual_values.json\", \"w\") as file:\n",
        "  file.write(json.dumps(all_dictionaries))"
      ]
    }
  ],
  "metadata": {
    "colab": {
      "collapsed_sections": [
        "uJTP_3sjBAOf",
        "0SfS7ULIBEvX",
        "BNwrv-HbGWhh",
        "u-vd_WdDFxuH",
        "h1O1oVsIAyEJ"
      ],
      "name": "12.2 - Modelos finales.ipynb",
      "provenance": []
    },
    "kernelspec": {
      "display_name": "Python 3",
      "name": "python3"
    },
    "language_info": {
      "codemirror_mode": {
        "name": "ipython",
        "version": 3
      },
      "file_extension": ".py",
      "mimetype": "text/x-python",
      "name": "python",
      "nbconvert_exporter": "python",
      "pygments_lexer": "ipython3",
      "version": "3.10.2"
    }
  },
  "nbformat": 4,
  "nbformat_minor": 0
}
