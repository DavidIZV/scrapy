{
  "cells": [
    {
      "cell_type": "markdown",
      "metadata": {
        "id": "FMOSqK11gegm"
      },
      "source": [
        "# Entrenamiento"
      ]
    },
    {
      "cell_type": "markdown",
      "metadata": {
        "id": "SquMRWVhgvmk"
      },
      "source": [
        "## 1. Preprocesado"
      ]
    },
    {
      "cell_type": "markdown",
      "metadata": {
        "id": "uJTP_3sjBAOf"
      },
      "source": [
        "### 1.1. Lectura"
      ]
    },
    {
      "cell_type": "code",
      "execution_count": 22,
      "metadata": {
        "id": "quL1bvsuIaKT"
      },
      "outputs": [],
      "source": [
        "import json\n",
        "url, names, all_dictionaries = \"./../generated/ml/models/\", [ 'dictionary_manual_values.json' ], {}\n",
        "\n",
        "for name in names:\n",
        "    destiny = url + name.replace(' ', '%20')\n",
        "    try:\n",
        "        f = open(destiny, 'rb')\n",
        "        all_dictionaries=json.loads(f.read())\n",
        "    except OSError:\n",
        "        print(\"No hay diccionario previo\")\n",
        "        all_dictionaries={}"
      ]
    },
    {
      "cell_type": "code",
      "execution_count": 23,
      "metadata": {
        "colab": {
          "base_uri": "https://localhost:8080/"
        },
        "id": "JdiOU40anGxc",
        "outputId": "9b8c9574-e2ee-4a2f-ad54-05efb8cf9c7b"
      },
      "outputs": [
        {
          "data": {
            "text/plain": [
              "{'make': {'ALFA ROMEO': 500,\n",
              "  'AUDI': 1500,\n",
              "  'MAZDA': 2500,\n",
              "  'BMW': 3500,\n",
              "  'CITROEN': 4500,\n",
              "  'DACIA': 5500,\n",
              "  'FIAT': 6500,\n",
              "  'FORD': 7500,\n",
              "  'HONDA': 8500,\n",
              "  'HYUNDAI': 9500,\n",
              "  'JAGUAR': 10500,\n",
              "  'JEEP': 11500,\n",
              "  'KIA': 12500,\n",
              "  'LEXUS': 13500,\n",
              "  'MERCEDES-BENZ': 14500,\n",
              "  'MITSUBISHI': 15500,\n",
              "  'MINI': 16500,\n",
              "  'NISSAN': 17500,\n",
              "  'PORSCHE': 18500,\n",
              "  'OPEL': 19500,\n",
              "  'SKODA': 20500,\n",
              "  'PEUGEOT': 21500,\n",
              "  'VOLVO': 22500,\n",
              "  'RENAULT': 23500,\n",
              "  'SEAT': 24500,\n",
              "  'TOYOTA': 25500,\n",
              "  'VOLKSWAGEN': 26500},\n",
              " 'transmissionType': {'COMMON.TRANSMISSION_AUTOMATIC': 0,\n",
              "  'COMMON.TRANSMISSION_MANUAL': 1},\n",
              " 'seller_type': {'profesional': 0},\n",
              " 'bodyType': {'BODY_TYPE_4X4': 500,\n",
              "  'BODY_TYPE_SEDAN': 700,\n",
              "  'BODY_TYPE_CABRIO': 900,\n",
              "  'BODY_TYPE_FAMILIAR': 1100,\n",
              "  'BODY_TYPE_COUPE': 1300,\n",
              "  'BODY_TYPE_MINIVAN': 1500}}"
            ]
          },
          "execution_count": 23,
          "metadata": {},
          "output_type": "execute_result"
        }
      ],
      "source": [
        "all_dictionaries"
      ]
    },
    {
      "cell_type": "code",
      "execution_count": 24,
      "metadata": {
        "colab": {
          "base_uri": "https://localhost:8080/"
        },
        "id": "p5hF7vNqgdcT",
        "outputId": "2fa95906-0bb8-4435-b0c7-b03fafc2c20c"
      },
      "outputs": [
        {
          "name": "stdout",
          "output_type": "stream",
          "text": [
            "Cargando: ./../generated/ml/preprocess/all.csv\n"
          ]
        }
      ],
      "source": [
        "import pandas as pd\n",
        "\n",
        "url, names, dataframes = \"./../generated/ml/preprocess/\", [ 'all.csv' ], []\n",
        "\n",
        "for name in names:\n",
        "  destiny = url + name.replace(' ', '%20')\n",
        "  print('Cargando: ' + destiny)\n",
        "  if 'csv' in name:\n",
        "    dataframes.append(pd.read_csv(destiny, delimiter=',', decimal=\".\", thousands=None))\n",
        "  else:\n",
        "    dataframes.append(pd.read_json(destiny))"
      ]
    },
    {
      "cell_type": "code",
      "execution_count": 25,
      "metadata": {
        "id": "FyKFBHf9hRmq"
      },
      "outputs": [],
      "source": [
        "all = pd.concat(dataframes)"
      ]
    },
    {
      "cell_type": "markdown",
      "metadata": {
        "id": "0SfS7ULIBEvX"
      },
      "source": [
        "### 1.2. Procesado de datos nulos"
      ]
    },
    {
      "cell_type": "code",
      "execution_count": 26,
      "metadata": {
        "colab": {
          "base_uri": "https://localhost:8080/"
        },
        "id": "o7atPXU7geHo",
        "outputId": "21df5d50-5788-45cb-f4ba-02656465bae9"
      },
      "outputs": [
        {
          "name": "stdout",
          "output_type": "stream",
          "text": [
            "Datos iniciales | Longitud: 5086 | Num Columns: 36\n",
            "Eliminados na or null on columns | Longitud: 5086 | Num Columns: 36\n",
            "Eliminados na or null on rows | Longitud: 5086 | Num Columns: 36\n",
            "Eliminados duplicados | Longitud: 5086 | Num Columns: 36\n",
            "Datos finales | Longitud: 5086 | Num Columns: 36\n"
          ]
        }
      ],
      "source": [
        "print(\"Datos iniciales | Longitud: {} | Num Columns: {}\".format(len(all), len(all.columns)))\n",
        "all=all.dropna(axis=1,how='all')\n",
        "print(\"Eliminados na or null on columns | Longitud: {} | Num Columns: {}\".format(len(all), len(all.columns)))\n",
        "all=all.dropna(axis=0)\n",
        "print(\"Eliminados na or null on rows | Longitud: {} | Num Columns: {}\".format(len(all), len(all.columns)))\n",
        "all=all.drop_duplicates()\n",
        "all=all.drop_duplicates(subset=['id'], keep='first')\n",
        "print(\"Eliminados duplicados | Longitud: {} | Num Columns: {}\".format(len(all), len(all.columns)))\n",
        "print(\"Datos finales | Longitud: {} | Num Columns: {}\".format(len(all), len(all.columns)))"
      ]
    },
    {
      "cell_type": "markdown",
      "metadata": {
        "id": "BNwrv-HbGWhh"
      },
      "source": [
        "### 1.3. Procesado columnas"
      ]
    },
    {
      "cell_type": "code",
      "execution_count": 27,
      "metadata": {},
      "outputs": [
        {
          "data": {
            "text/plain": [
              "Index(['color', 'fuelTypeId', 'id', 'km', 'make', 'makeId', 'province',\n",
              "       'provinceId', 'title', 'transmissionType', 'transmissionTypeId', 'year',\n",
              "       'brand', 'brand_id', 'model', 'model_id', 'price', 'seller_type',\n",
              "       'bodyType', 'cubicCapacity', 'doors', 'hp', 'acceleration',\n",
              "       'consumptionAverage', 'consumptionExtraUrban', 'consumptionUrban',\n",
              "       'emissions', 'fuelTankCapacity', 'height', 'length', 'luggageCapacity',\n",
              "       'manufacturerPrice', 'seats', 'topSpeed', 'weight', 'width'],\n",
              "      dtype='object')"
            ]
          },
          "execution_count": 27,
          "metadata": {},
          "output_type": "execute_result"
        }
      ],
      "source": [
        "all.columns"
      ]
    },
    {
      "cell_type": "code",
      "execution_count": 28,
      "metadata": {
        "colab": {
          "base_uri": "https://localhost:8080/"
        },
        "id": "tiGNCHesBYsa",
        "outputId": "53ca53a7-cf18-426e-ef15-c1daf8007deb"
      },
      "outputs": [
        {
          "data": {
            "text/plain": [
              "Index(['color', 'fuelTypeId', 'id', 'km', 'make', 'makeId', 'province',\n",
              "       'provinceId', 'title', 'transmissionType', 'transmissionTypeId', 'year',\n",
              "       'brand', 'brand_id', 'model', 'model_id', 'price', 'seller_type',\n",
              "       'bodyType', 'cubicCapacity', 'doors', 'hp', 'acceleration',\n",
              "       'consumptionAverage', 'consumptionExtraUrban', 'consumptionUrban',\n",
              "       'emissions', 'fuelTankCapacity', 'height', 'length', 'luggageCapacity',\n",
              "       'manufacturerPrice', 'seats', 'topSpeed', 'weight', 'width'],\n",
              "      dtype='object')"
            ]
          },
          "execution_count": 28,
          "metadata": {},
          "output_type": "execute_result"
        }
      ],
      "source": [
        "all.columns"
      ]
    },
    {
      "cell_type": "code",
      "execution_count": 29,
      "metadata": {
        "id": "dBjBWI8rGfcj"
      },
      "outputs": [],
      "source": [
        "columns_to_drop=['id','color','fuelTypeId','makeId','province','provinceId','title','transmissionTypeId','brand_id','luggageCapacity','consumptionAverage','consumptionExtraUrban','model_id','manufacturerPrice','seats','weight','emissions','fuelTankCapacity','height','luggageCapacity','brand','doors','topSpeed','consumptionUrban','model']\n",
        "all=all.drop(columns_to_drop, axis = 1)"
      ]
    },
    {
      "cell_type": "code",
      "execution_count": 30,
      "metadata": {
        "colab": {
          "base_uri": "https://localhost:8080/"
        },
        "id": "oPCNq5xFpoLF",
        "outputId": "0be8cdee-bc60-4373-a358-aedc25677167"
      },
      "outputs": [
        {
          "data": {
            "text/plain": [
              "Index(['km', 'make', 'transmissionType', 'year', 'price', 'seller_type',\n",
              "       'bodyType', 'cubicCapacity', 'hp', 'acceleration', 'length', 'width'],\n",
              "      dtype='object')"
            ]
          },
          "execution_count": 30,
          "metadata": {},
          "output_type": "execute_result"
        }
      ],
      "source": [
        "all.columns"
      ]
    },
    {
      "cell_type": "code",
      "execution_count": 31,
      "metadata": {
        "colab": {
          "base_uri": "https://localhost:8080/",
          "height": 0
        },
        "id": "2vpTCL7kGfec",
        "outputId": "5360d535-8009-4a43-c380-19256165d08b"
      },
      "outputs": [
        {
          "data": {
            "text/html": [
              "<div>\n",
              "<style scoped>\n",
              "    .dataframe tbody tr th:only-of-type {\n",
              "        vertical-align: middle;\n",
              "    }\n",
              "\n",
              "    .dataframe tbody tr th {\n",
              "        vertical-align: top;\n",
              "    }\n",
              "\n",
              "    .dataframe thead th {\n",
              "        text-align: right;\n",
              "    }\n",
              "</style>\n",
              "<table border=\"1\" class=\"dataframe\">\n",
              "  <thead>\n",
              "    <tr style=\"text-align: right;\">\n",
              "      <th></th>\n",
              "      <th>km</th>\n",
              "      <th>make</th>\n",
              "      <th>transmissionType</th>\n",
              "      <th>year</th>\n",
              "      <th>price</th>\n",
              "      <th>seller_type</th>\n",
              "      <th>bodyType</th>\n",
              "      <th>cubicCapacity</th>\n",
              "      <th>hp</th>\n",
              "      <th>acceleration</th>\n",
              "      <th>length</th>\n",
              "      <th>width</th>\n",
              "    </tr>\n",
              "  </thead>\n",
              "  <tbody>\n",
              "    <tr>\n",
              "      <th>0</th>\n",
              "      <td>79990</td>\n",
              "      <td>ALFA ROMEO</td>\n",
              "      <td>COMMON.TRANSMISSION_AUTOMATIC</td>\n",
              "      <td>2018</td>\n",
              "      <td>29490</td>\n",
              "      <td>profesional</td>\n",
              "      <td>BODY_TYPE_4X4</td>\n",
              "      <td>2143.0</td>\n",
              "      <td>160.0</td>\n",
              "      <td>8.8</td>\n",
              "      <td>4687.0</td>\n",
              "      <td>1903.0</td>\n",
              "    </tr>\n",
              "    <tr>\n",
              "      <th>1</th>\n",
              "      <td>91718</td>\n",
              "      <td>ALFA ROMEO</td>\n",
              "      <td>COMMON.TRANSMISSION_AUTOMATIC</td>\n",
              "      <td>2018</td>\n",
              "      <td>30500</td>\n",
              "      <td>profesional</td>\n",
              "      <td>BODY_TYPE_4X4</td>\n",
              "      <td>2143.0</td>\n",
              "      <td>190.0</td>\n",
              "      <td>7.6</td>\n",
              "      <td>4687.0</td>\n",
              "      <td>1903.0</td>\n",
              "    </tr>\n",
              "  </tbody>\n",
              "</table>\n",
              "</div>"
            ],
            "text/plain": [
              "      km        make               transmissionType  year  price  seller_type  \\\n",
              "0  79990  ALFA ROMEO  COMMON.TRANSMISSION_AUTOMATIC  2018  29490  profesional   \n",
              "1  91718  ALFA ROMEO  COMMON.TRANSMISSION_AUTOMATIC  2018  30500  profesional   \n",
              "\n",
              "        bodyType  cubicCapacity     hp  acceleration  length   width  \n",
              "0  BODY_TYPE_4X4         2143.0  160.0           8.8  4687.0  1903.0  \n",
              "1  BODY_TYPE_4X4         2143.0  190.0           7.6  4687.0  1903.0  "
            ]
          },
          "execution_count": 31,
          "metadata": {},
          "output_type": "execute_result"
        }
      ],
      "source": [
        "all.head(2)"
      ]
    },
    {
      "cell_type": "code",
      "execution_count": 32,
      "metadata": {
        "id": "26odtUsqPCU7"
      },
      "outputs": [],
      "source": [
        "def columns_numeric_type(df,columns_names):\n",
        "  for columns_name in columns_names:\n",
        "    df[column_name]=pd.to_numeric(df[column_name])\n",
        "  return df"
      ]
    },
    {
      "cell_type": "code",
      "execution_count": 33,
      "metadata": {
        "colab": {
          "base_uri": "https://localhost:8080/"
        },
        "id": "-T2IxwUAGfgg",
        "outputId": "29ab4eea-4fc8-432f-c677-b35df06c5adb"
      },
      "outputs": [
        {
          "name": "stdout",
          "output_type": "stream",
          "text": [
            "make 27\n",
            "transmissionType 2\n",
            "seller_type 1\n",
            "bodyType 6\n"
          ]
        }
      ],
      "source": [
        "qualitative_variable_names = [ e for e in all.select_dtypes(['object']).columns ]\n",
        "for column_name in qualitative_variable_names:\n",
        "  print(column_name, len(all[column_name].unique()))"
      ]
    },
    {
      "cell_type": "code",
      "execution_count": 34,
      "metadata": {
        "id": "k7mZOI-gKUmS"
      },
      "outputs": [],
      "source": [
        "import operator\n",
        "\n",
        "def replace_for_numeric(df,column_name,initial,increaser,value_dictionary={}):\n",
        "  values=df[column_name].unique()\n",
        "  pos=initial\n",
        "  if len(value_dictionary) > 0:\n",
        "    max_dictionary=max(value_dictionary.items(), key=operator.itemgetter(1))[1]\n",
        "  else:\n",
        "    max_dictionary=initial\n",
        "  if max_dictionary > pos:\n",
        "    pos=max_dictionary+increaser\n",
        "  for value in values:\n",
        "    if value not in value_dictionary:\n",
        "      value_dictionary[value]=pos\n",
        "      df.loc[df[column_name] == value, column_name] = pos\n",
        "      pos=pos+increaser\n",
        "    else:\n",
        "      df.loc[df[column_name] == value, column_name] = value_dictionary[value]\n",
        "  df[column_name]=pd.to_numeric(df[column_name])\n",
        "  # print(\"Nuevos valores: \", df[column_name].unique())\n",
        "  return df,value_dictionary"
      ]
    },
    {
      "cell_type": "code",
      "execution_count": 35,
      "metadata": {
        "colab": {
          "base_uri": "https://localhost:8080/"
        },
        "id": "iUqZ8zT9SL9U",
        "outputId": "a5ae2617-c88f-49a1-abb0-4385a295b9ab"
      },
      "outputs": [
        {
          "data": {
            "text/plain": [
              "Index(['make', 'transmissionType', 'seller_type', 'bodyType'], dtype='object')"
            ]
          },
          "execution_count": 35,
          "metadata": {},
          "output_type": "execute_result"
        }
      ],
      "source": [
        "all.select_dtypes(['object']).columns"
      ]
    },
    {
      "cell_type": "code",
      "execution_count": 36,
      "metadata": {
        "colab": {
          "base_uri": "https://localhost:8080/"
        },
        "id": "D2UhwXj2Ilfe",
        "outputId": "9c89cabc-bf87-48f6-8c95-d3a3248be10b"
      },
      "outputs": [
        {
          "name": "stdout",
          "output_type": "stream",
          "text": [
            "{'make': {'ALFA ROMEO': 500, 'AUDI': 1500, 'MAZDA': 2500, 'BMW': 3500, 'CITROEN': 4500, 'DACIA': 5500, 'FIAT': 6500, 'FORD': 7500, 'HONDA': 8500, 'HYUNDAI': 9500, 'JAGUAR': 10500, 'JEEP': 11500, 'KIA': 12500, 'LEXUS': 13500, 'MERCEDES-BENZ': 14500, 'MITSUBISHI': 15500, 'MINI': 16500, 'NISSAN': 17500, 'PORSCHE': 18500, 'OPEL': 19500, 'SKODA': 20500, 'PEUGEOT': 21500, 'VOLVO': 22500, 'RENAULT': 23500, 'SEAT': 24500, 'TOYOTA': 25500, 'VOLKSWAGEN': 26500}, 'transmissionType': {'COMMON.TRANSMISSION_AUTOMATIC': 0, 'COMMON.TRANSMISSION_MANUAL': 1}, 'seller_type': {'profesional': 0}, 'bodyType': {'BODY_TYPE_4X4': 500, 'BODY_TYPE_SEDAN': 700, 'BODY_TYPE_CABRIO': 900, 'BODY_TYPE_FAMILIAR': 1100, 'BODY_TYPE_COUPE': 1300, 'BODY_TYPE_MINIVAN': 1500}}\n"
          ]
        }
      ],
      "source": [
        "all,word_dictionary=replace_for_numeric(all,'make',500,1000,all_dictionaries.get('make', {}))\n",
        "all_dictionaries['make']=word_dictionary\n",
        "all,word_dictionary=replace_for_numeric(all,'transmissionType',0,1,all_dictionaries.get('transmissionType', {}))\n",
        "all_dictionaries['transmissionType']=word_dictionary\n",
        "all,word_dictionary=replace_for_numeric(all,'seller_type',0,1,all_dictionaries.get('seller_type', {}))\n",
        "all_dictionaries['seller_type']=word_dictionary\n",
        "all,word_dictionary=replace_for_numeric(all,'bodyType',500,200,all_dictionaries.get('bodyType', {}))\n",
        "all_dictionaries['bodyType']=word_dictionary\n",
        "print(all_dictionaries)"
      ]
    },
    {
      "cell_type": "markdown",
      "metadata": {
        "id": "cOqjDQQqUV3S"
      },
      "source": [
        "### 1.4. Muestra de datos finales"
      ]
    },
    {
      "cell_type": "code",
      "execution_count": 37,
      "metadata": {},
      "outputs": [
        {
          "data": {
            "text/plain": [
              "Index(['km', 'make', 'transmissionType', 'year', 'price', 'seller_type',\n",
              "       'bodyType', 'cubicCapacity', 'hp', 'acceleration', 'length', 'width'],\n",
              "      dtype='object')"
            ]
          },
          "execution_count": 37,
          "metadata": {},
          "output_type": "execute_result"
        }
      ],
      "source": [
        "all.columns"
      ]
    },
    {
      "cell_type": "code",
      "execution_count": 38,
      "metadata": {
        "colab": {
          "base_uri": "https://localhost:8080/",
          "height": 81
        },
        "id": "oPy5ErciF2a0",
        "outputId": "962a301a-a7df-40d8-ff24-c4bad046f742"
      },
      "outputs": [
        {
          "data": {
            "text/html": [
              "<div>\n",
              "<style scoped>\n",
              "    .dataframe tbody tr th:only-of-type {\n",
              "        vertical-align: middle;\n",
              "    }\n",
              "\n",
              "    .dataframe tbody tr th {\n",
              "        vertical-align: top;\n",
              "    }\n",
              "\n",
              "    .dataframe thead th {\n",
              "        text-align: right;\n",
              "    }\n",
              "</style>\n",
              "<table border=\"1\" class=\"dataframe\">\n",
              "  <thead>\n",
              "    <tr style=\"text-align: right;\">\n",
              "      <th></th>\n",
              "      <th>km</th>\n",
              "      <th>make</th>\n",
              "      <th>transmissionType</th>\n",
              "      <th>year</th>\n",
              "      <th>price</th>\n",
              "      <th>seller_type</th>\n",
              "      <th>bodyType</th>\n",
              "      <th>cubicCapacity</th>\n",
              "      <th>hp</th>\n",
              "      <th>acceleration</th>\n",
              "      <th>length</th>\n",
              "      <th>width</th>\n",
              "    </tr>\n",
              "  </thead>\n",
              "  <tbody>\n",
              "    <tr>\n",
              "      <th>5076</th>\n",
              "      <td>23900</td>\n",
              "      <td>26500</td>\n",
              "      <td>0</td>\n",
              "      <td>2020</td>\n",
              "      <td>36700</td>\n",
              "      <td>0</td>\n",
              "      <td>700</td>\n",
              "      <td>1984.0</td>\n",
              "      <td>245.0</td>\n",
              "      <td>6.2</td>\n",
              "      <td>4258.0</td>\n",
              "      <td>1790.0</td>\n",
              "    </tr>\n",
              "    <tr>\n",
              "      <th>5077</th>\n",
              "      <td>129000</td>\n",
              "      <td>26500</td>\n",
              "      <td>0</td>\n",
              "      <td>2012</td>\n",
              "      <td>13900</td>\n",
              "      <td>0</td>\n",
              "      <td>700</td>\n",
              "      <td>1968.0</td>\n",
              "      <td>140.0</td>\n",
              "      <td>9.3</td>\n",
              "      <td>4199.0</td>\n",
              "      <td>1786.0</td>\n",
              "    </tr>\n",
              "    <tr>\n",
              "      <th>5078</th>\n",
              "      <td>86000</td>\n",
              "      <td>26500</td>\n",
              "      <td>1</td>\n",
              "      <td>2018</td>\n",
              "      <td>18900</td>\n",
              "      <td>0</td>\n",
              "      <td>700</td>\n",
              "      <td>1968.0</td>\n",
              "      <td>150.0</td>\n",
              "      <td>8.7</td>\n",
              "      <td>4767.0</td>\n",
              "      <td>1832.0</td>\n",
              "    </tr>\n",
              "    <tr>\n",
              "      <th>5079</th>\n",
              "      <td>55742</td>\n",
              "      <td>26500</td>\n",
              "      <td>1</td>\n",
              "      <td>2018</td>\n",
              "      <td>21399</td>\n",
              "      <td>0</td>\n",
              "      <td>500</td>\n",
              "      <td>999.0</td>\n",
              "      <td>115.0</td>\n",
              "      <td>10.1</td>\n",
              "      <td>4234.0</td>\n",
              "      <td>1819.0</td>\n",
              "    </tr>\n",
              "    <tr>\n",
              "      <th>5080</th>\n",
              "      <td>79235</td>\n",
              "      <td>26500</td>\n",
              "      <td>0</td>\n",
              "      <td>2017</td>\n",
              "      <td>29900</td>\n",
              "      <td>0</td>\n",
              "      <td>500</td>\n",
              "      <td>1968.0</td>\n",
              "      <td>150.0</td>\n",
              "      <td>9.3</td>\n",
              "      <td>4486.0</td>\n",
              "      <td>1839.0</td>\n",
              "    </tr>\n",
              "    <tr>\n",
              "      <th>5081</th>\n",
              "      <td>14149</td>\n",
              "      <td>26500</td>\n",
              "      <td>0</td>\n",
              "      <td>2020</td>\n",
              "      <td>25300</td>\n",
              "      <td>0</td>\n",
              "      <td>700</td>\n",
              "      <td>1498.0</td>\n",
              "      <td>150.0</td>\n",
              "      <td>8.3</td>\n",
              "      <td>4258.0</td>\n",
              "      <td>1790.0</td>\n",
              "    </tr>\n",
              "    <tr>\n",
              "      <th>5082</th>\n",
              "      <td>128428</td>\n",
              "      <td>26500</td>\n",
              "      <td>0</td>\n",
              "      <td>2018</td>\n",
              "      <td>23950</td>\n",
              "      <td>0</td>\n",
              "      <td>700</td>\n",
              "      <td>1968.0</td>\n",
              "      <td>150.0</td>\n",
              "      <td>8.7</td>\n",
              "      <td>4767.0</td>\n",
              "      <td>1832.0</td>\n",
              "    </tr>\n",
              "    <tr>\n",
              "      <th>5083</th>\n",
              "      <td>89000</td>\n",
              "      <td>26500</td>\n",
              "      <td>1</td>\n",
              "      <td>2016</td>\n",
              "      <td>27800</td>\n",
              "      <td>0</td>\n",
              "      <td>1500</td>\n",
              "      <td>1968.0</td>\n",
              "      <td>150.0</td>\n",
              "      <td>10.3</td>\n",
              "      <td>4854.0</td>\n",
              "      <td>1904.0</td>\n",
              "    </tr>\n",
              "    <tr>\n",
              "      <th>5084</th>\n",
              "      <td>64914</td>\n",
              "      <td>26500</td>\n",
              "      <td>0</td>\n",
              "      <td>2016</td>\n",
              "      <td>25990</td>\n",
              "      <td>0</td>\n",
              "      <td>700</td>\n",
              "      <td>1968.0</td>\n",
              "      <td>184.0</td>\n",
              "      <td>7.5</td>\n",
              "      <td>4268.0</td>\n",
              "      <td>1799.0</td>\n",
              "    </tr>\n",
              "    <tr>\n",
              "      <th>5085</th>\n",
              "      <td>66760</td>\n",
              "      <td>26500</td>\n",
              "      <td>0</td>\n",
              "      <td>2019</td>\n",
              "      <td>36099</td>\n",
              "      <td>0</td>\n",
              "      <td>500</td>\n",
              "      <td>1968.0</td>\n",
              "      <td>190.0</td>\n",
              "      <td>7.9</td>\n",
              "      <td>4486.0</td>\n",
              "      <td>1839.0</td>\n",
              "    </tr>\n",
              "  </tbody>\n",
              "</table>\n",
              "</div>"
            ],
            "text/plain": [
              "          km   make  transmissionType  year  price  seller_type  bodyType  \\\n",
              "5076   23900  26500                 0  2020  36700            0       700   \n",
              "5077  129000  26500                 0  2012  13900            0       700   \n",
              "5078   86000  26500                 1  2018  18900            0       700   \n",
              "5079   55742  26500                 1  2018  21399            0       500   \n",
              "5080   79235  26500                 0  2017  29900            0       500   \n",
              "5081   14149  26500                 0  2020  25300            0       700   \n",
              "5082  128428  26500                 0  2018  23950            0       700   \n",
              "5083   89000  26500                 1  2016  27800            0      1500   \n",
              "5084   64914  26500                 0  2016  25990            0       700   \n",
              "5085   66760  26500                 0  2019  36099            0       500   \n",
              "\n",
              "      cubicCapacity     hp  acceleration  length   width  \n",
              "5076         1984.0  245.0           6.2  4258.0  1790.0  \n",
              "5077         1968.0  140.0           9.3  4199.0  1786.0  \n",
              "5078         1968.0  150.0           8.7  4767.0  1832.0  \n",
              "5079          999.0  115.0          10.1  4234.0  1819.0  \n",
              "5080         1968.0  150.0           9.3  4486.0  1839.0  \n",
              "5081         1498.0  150.0           8.3  4258.0  1790.0  \n",
              "5082         1968.0  150.0           8.7  4767.0  1832.0  \n",
              "5083         1968.0  150.0          10.3  4854.0  1904.0  \n",
              "5084         1968.0  184.0           7.5  4268.0  1799.0  \n",
              "5085         1968.0  190.0           7.9  4486.0  1839.0  "
            ]
          },
          "execution_count": 38,
          "metadata": {},
          "output_type": "execute_result"
        }
      ],
      "source": [
        "all.tail(10)"
      ]
    }
  ],
  "metadata": {
    "colab": {
      "collapsed_sections": [
        "uJTP_3sjBAOf",
        "0SfS7ULIBEvX",
        "BNwrv-HbGWhh",
        "u-vd_WdDFxuH",
        "h1O1oVsIAyEJ"
      ],
      "name": "12.2 - Modelos finales.ipynb",
      "provenance": []
    },
    "kernelspec": {
      "display_name": "Python 3",
      "name": "python3"
    },
    "language_info": {
      "codemirror_mode": {
        "name": "ipython",
        "version": 3
      },
      "file_extension": ".py",
      "mimetype": "text/x-python",
      "name": "python",
      "nbconvert_exporter": "python",
      "pygments_lexer": "ipython3",
      "version": "3.10.2"
    }
  },
  "nbformat": 4,
  "nbformat_minor": 0
}
