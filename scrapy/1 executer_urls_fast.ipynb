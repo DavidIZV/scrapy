{
 "cells": [
  {
   "cell_type": "markdown",
   "metadata": {},
   "source": [
    "## Dependencias"
   ]
  },
  {
   "cell_type": "code",
   "execution_count": null,
   "metadata": {},
   "outputs": [],
   "source": [
    "pip install undetected-chromedriver"
   ]
  },
  {
   "cell_type": "markdown",
   "metadata": {},
   "source": [
    "## Funciones genericas"
   ]
  },
  {
   "cell_type": "markdown",
   "metadata": {},
   "source": [
    "### Definicion de mis user agent"
   ]
  },
  {
   "cell_type": "code",
   "execution_count": 19,
   "metadata": {},
   "outputs": [],
   "source": [
    "import random\n",
    "import time\n",
    "from selenium.webdriver.common.by import By\n",
    "import undetected_chromedriver as uc\n",
    "import json\n",
    "from selenium import webdriver\n",
    "\n",
    "user_agents = ['Mozilla/5.0 (Windows NT 10.0; Win64; x64) AppleWebKit/537.36 (KHTML, like Gecko) Chrome/83.0.4103.97 Safari/537.36',\n",
    "                'Mozilla/5.0 (Windows NT 10.0; Win64; x64) AppleWebKit/537.36 (KHTML, like Gecko) Chrome/83.0.4103.53 Safari/537.36',\n",
    "                'Mozilla/5.0 (Windows NT 10.0; Win64; x64; rv:96.0) Gecko/20100101 Firefox/96.0',\n",
    "                'Mozilla/5.0 (X11; Linux x86_64) AppleWebKit/537.36 (KHTML, like Gecko) Chrome/44.0.2403.157 Safari/537.36',\n",
    "                'Mozilla/5.0 (X11; Linux x86_64) AppleWebKit/537.36 (KHTML, like Gecko) Chrome/72.0.3626.121 Safari/537.36',\n",
    "                'Mozilla/5.0 (X11; Ubuntu; Linux i686; rv:24.0) Gecko/20100101 Firefox/24.0']\n",
    "agents = len(user_agents) - 1"
   ]
  },
  {
   "cell_type": "markdown",
   "metadata": {},
   "source": [
    "### Definicion de funciones para busqueda de valores"
   ]
  },
  {
   "cell_type": "code",
   "execution_count": null,
   "metadata": {},
   "outputs": [],
   "source": [
    "def search_all_coincidences(key, path, data_json):\n",
    "    coincidences = []\n",
    "    data_json = get_sub_path(path, data_json)\n",
    "    if isinstance(data_json, list):\n",
    "        for data in data_json:\n",
    "            if isinstance(data, dict) or isinstance(data, list):\n",
    "                coincidences = coincidences + search_all_coincidences(key, None, data)\n",
    "    else:\n",
    "        for data_key in data_json:\n",
    "            data = data_json[data_key]\n",
    "            if key == data_key:\n",
    "                coincidences.append(data)\n",
    "            elif isinstance(data, dict) or isinstance(data, list):\n",
    "                coincidences = coincidences + search_all_coincidences(key, None, data)\n",
    "    return coincidences\n",
    "\n",
    "def get_sub_path(path, data_json):\n",
    "    if path != None:\n",
    "        path = path.split('/')\n",
    "        for sub_path in path:\n",
    "            data_json = data_json[sub_path]\n",
    "    return data_json"
   ]
  },
  {
   "cell_type": "markdown",
   "metadata": {},
   "source": [
    "### Funcion para escritura de resultados"
   ]
  },
  {
   "cell_type": "code",
   "execution_count": null,
   "metadata": {},
   "outputs": [],
   "source": [
    "def write_urls(page_source, page_cont):\n",
    "    \n",
    "    print(\"Escribiendo fichero\")\n",
    "    initialPos = page_source.find('window.__INITIAL_PROPS__ = JSON.parse(')\n",
    "    lastPos = len(page_source)\n",
    "    page_source = page_source[initialPos : lastPos]\n",
    "    initialPos = 39\n",
    "    lastPos = page_source.find(');</script>') - 1\n",
    "    page_source = page_source[initialPos : lastPos]\n",
    "    page_source=page_source.replace('\\\\\\\\\\\\\\\"', '')\n",
    "    page_source=page_source.replace('\\\\\\\"', '\\\"')\n",
    "    data_json = json.loads(page_source)\n",
    "\n",
    "    # Prepare links\n",
    "    coincidences = search_all_coincidences('url', 'initialResults/items', data_json)\n",
    "    file_name = \"./../generated/scrapy/urls/car_liks\" + str(page_cont) + \".json\"\n",
    "    f = open(file_name, \"a\")\n",
    "    f.write(json.dumps(coincidences))\n",
    "    f.close()"
   ]
  },
  {
   "cell_type": "markdown",
   "metadata": {},
   "source": [
    "### Funciones para scrapy"
   ]
  },
  {
   "cell_type": "code",
   "execution_count": null,
   "metadata": {},
   "outputs": [],
   "source": [
    "def scrapy_url(driver, current_page, page_cont):\n",
    "    driver.get(current_page)\n",
    "    page_source = driver.page_source\n",
    "    if current_page not in pages_to_avoid_robot_detection:\n",
    "        write_urls(page_source, page_cont)\n",
    "        page_cont = page_cont + 1\n",
    "    else:\n",
    "        print(\"Pagina sin interes: \" + current_page)\n",
    "    return page_cont"
   ]
  },
  {
   "cell_type": "code",
   "execution_count": null,
   "metadata": {},
   "outputs": [],
   "source": [
    "def run_scrapy_urls(page_cont, driver, pages):\n",
    "        \n",
    "    for page in pages:\n",
    "        print(\"Procesando (\" + str(page_cont) + \" de \" + str(len(pages)) + \"): \" + page)\n",
    "        try:\n",
    "            page_cont=scrapy_url(driver, page, page_cont)\n",
    "        except:\n",
    "            page_source = driver.page_source\n",
    "            if \"Algo en tu navegador nos hizo pensar que eres un bot\" in page_source:\n",
    "                while True:\n",
    "                    print(\"Esperando resolucion de captcha\")\n",
    "                    time.sleep(30)\n",
    "                    print(\"Probando de nuevo\")\n",
    "                    try:\n",
    "                        page_cont=scrapy_url(driver, page, page_cont)\n",
    "                        break\n",
    "                    except Exception as e:\n",
    "                        print(\"Hubo algun problema con la url: \" + page)\n",
    "                        print(e)"
   ]
  },
  {
   "cell_type": "markdown",
   "metadata": {},
   "source": [
    "## Parametros y creacion de lista de urls para scrapy"
   ]
  },
  {
   "cell_type": "code",
   "execution_count": null,
   "metadata": {},
   "outputs": [],
   "source": [
    "pages_configuration_for_model = {\n",
    "'1': 2, '4': 40, '27': 4, # Dani\n",
    "'7': 10, '11': 6, # Maximo\n",
    "'1011': 3, '14': 3,'15': 10, # David\n",
    "'69': 2, '18': 5, '20': 3, '21': 3, '22': 5, # Adri\n",
    "'25': 5, '28': 10, '30': 3, # Miguel\n",
    "'222': 6, '31': 7, '34': 4, # Carlos\n",
    "'32': 11, '40': 4, # Angel\n",
    "'33': 12, '48': 4, # Fran\n",
    "'35': 9, '39': 9, '46': 7, '47': 10 # ??\n",
    "}\n",
    "\n",
    "pages_configuration_for_model = {\n",
    "'21': 3, '22': 5, # Adri\n",
    "'25': 5, '28': 10, '30': 3, # Miguel\n",
    "'222': 6, '31': 7, '34': 4, # Carlos\n",
    "'32': 11, '40': 4, # Angel\n",
    "'33': 12, '48': 4, # Fran\n",
    "'35': 9, '39': 9, '46': 7, '47': 10 # ??\n",
    "}\n",
    "\n",
    "# pages_configuration_for_model = {\n",
    "# '1': 1, '4': 1, '27': 1, # Dani\n",
    "# '7': 1, '11': 1, # Maximo\n",
    "# '1011': 1, '14': 1,'15': 1, # David\n",
    "# '69': 1, '18': 1, '20': 1, '21': 1, '22': 1, # Adri\n",
    "# '25': 1, '28': 1, '30': 1, # Miguel\n",
    "# '222': 1, '31': 1, '34': 1, # Carlos\n",
    "# '32': 1, '40': 1, # Angel\n",
    "# '33': 1, '48': 1, # Fran\n",
    "# '35': 1, '39': 1, '46': 1, '47': 1 # ??\n",
    "# }\n",
    "\n",
    "pages_to_avoid_robot_detection = [ 'https://www.coches.net', 'https://www.coches.net/segunda-mano', 'https://www.coches.net/segunda-mano/?MaxYear=2020', 'https://www.coches.net/segunda-mano/?MaxYear=2020&MinYear=2010', 'https://www.coches.net/segunda-mano/?MaxYear=2020&MinKms=10000&MinYear=2010' ]\n",
    "\n",
    "all_url_pages = [ 'https://www.coches.net/segunda-mano/?MakeId=' + k + '&MaxYear=2020&MinKms=10000&MinYear=2010&pg=' + str(num) for k, v in pages_configuration_for_model.items() for num in range(1, v + 1)  ]\n",
    "\n",
    "config_pages = pages_to_avoid_robot_detection + all_url_pages"
   ]
  },
  {
   "cell_type": "markdown",
   "metadata": {},
   "source": [
    "## Ejecucion"
   ]
  },
  {
   "cell_type": "markdown",
   "metadata": {},
   "source": [
    "### Creacion de driver chrome"
   ]
  },
  {
   "cell_type": "code",
   "execution_count": null,
   "metadata": {},
   "outputs": [],
   "source": [
    "def create_driver_chrome():\n",
    "    # Prepare navigator\n",
    "    user_agent_for_page = user_agents[random.randint(0, agents)]\n",
    "    options = webdriver.ChromeOptions() \n",
    "    # options.headless = True\n",
    "    options.add_argument('--disable-blink-features=AutomationControlled')\n",
    "    options.add_argument(user_agent_for_page)\n",
    "    driver = uc.Chrome(options=options)\n",
    "    driver.execute_cdp_cmd('Network.setUserAgentOverride', {\"userAgent\": user_agent_for_page})\n",
    "    return driver"
   ]
  },
  {
   "cell_type": "code",
   "execution_count": null,
   "metadata": {},
   "outputs": [],
   "source": [
    "current_driver = create_driver_chrome()"
   ]
  },
  {
   "cell_type": "markdown",
   "metadata": {},
   "source": [
    "### Scrapy"
   ]
  },
  {
   "cell_type": "code",
   "execution_count": null,
   "metadata": {},
   "outputs": [],
   "source": [
    "run_scrapy_urls(0, current_driver, config_pages)"
   ]
  }
 ],
 "metadata": {
  "interpreter": {
   "hash": "4b835444db5ea5e7e138d76352e12a39a6e80917d179a26fd81fa5db1971d4ec"
  },
  "kernelspec": {
   "display_name": "Python 3.10.0 64-bit ('nombre-proyecto-_zOcaY1a-py3.10': poetry)",
   "language": "python",
   "name": "python3"
  },
  "language_info": {
   "codemirror_mode": {
    "name": "ipython",
    "version": 3
   },
   "file_extension": ".py",
   "mimetype": "text/x-python",
   "name": "python",
   "nbconvert_exporter": "python",
   "pygments_lexer": "ipython3",
   "version": "3.10.2"
  },
  "orig_nbformat": 4
 },
 "nbformat": 4,
 "nbformat_minor": 2
}
