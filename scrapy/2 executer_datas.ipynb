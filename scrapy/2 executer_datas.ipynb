{
 "cells": [
  {
   "cell_type": "markdown",
   "metadata": {},
   "source": [
    "## Dependencias"
   ]
  },
  {
   "cell_type": "code",
   "execution_count": null,
   "metadata": {},
   "outputs": [],
   "source": [
    "pip install undetected-chromedriver"
   ]
  },
  {
   "cell_type": "markdown",
   "metadata": {},
   "source": [
    "## Funciones genericas"
   ]
  },
  {
   "cell_type": "markdown",
   "metadata": {},
   "source": [
    "### Definicion de mis user agent"
   ]
  },
  {
   "cell_type": "code",
   "execution_count": null,
   "metadata": {},
   "outputs": [],
   "source": [
    "import random\n",
    "import time\n",
    "from selenium.webdriver.common.by import By\n",
    "import undetected_chromedriver as uc\n",
    "import undetected_chromedriver.v2 as uc2\n",
    "import json\n",
    "import csv\n",
    "from selenium import webdriver\n",
    "\n",
    "user_agents = ['Mozilla/5.0 (Windows NT 10.0; Win64; x64) AppleWebKit/537.36 (KHTML, like Gecko) Chrome/83.0.4103.97 Safari/537.36',\n",
    "            'Mozilla/5.0 (Windows NT 10.0; Win64; x64) AppleWebKit/537.36 (KHTML, like Gecko) Chrome/83.0.4103.53 Safari/537.36',\n",
    "            'Mozilla/5.0 (Windows NT 10.0; Win64; x64; rv:96.0) Gecko/20100101 Firefox/96.0',\n",
    "            'Mozilla/5.0 (X11; Linux x86_64) AppleWebKit/537.36 (KHTML, like Gecko) Chrome/44.0.2403.157 Safari/537.36',\n",
    "            'Mozilla/5.0 (X11; Linux x86_64) AppleWebKit/537.36 (KHTML, like Gecko) Chrome/72.0.3626.121 Safari/537.36',\n",
    "            'Mozilla/5.0 (X11; Ubuntu; Linux i686; rv:24.0) Gecko/20100101 Firefox/24.0',\n",
    "            'Mozilla/5.0 (Linux; Android 10; LM-Q710(FGN)) AppleWebKit/537.36 (KHTML, like Gecko) Chrome/98.0.4758.101 Mobile Safari/537.36',\n",
    "            'Mozilla/5.0 (Linux; Android 10; SM-N960U) AppleWebKit/537.36 (KHTML, like Gecko) Chrome/98.0.4758.101 Mobile Safari/537.36',\n",
    "            'Mozilla/5.0 (Linux; Android 10) AppleWebKit/537.36 (KHTML, like Gecko) Chrome/98.0.4758.101 Mobile Safari/537.36',\n",
    "            'Mozilla/5.0 (Linux; Android 10; HD1913) AppleWebKit/537.36 (KHTML, like Gecko) Chrome/98.0.4758.101 Mobile Safari/537.36 EdgA/97.0.1072.69',\n",
    "            'Mozilla/5.0 (Windows Mobile 10; Android 10.0; Microsoft; Lumia 950XL) AppleWebKit/537.36 (KHTML, like Gecko) Chrome/98.0.4758.102 Mobile Safari/537.36 Edge/40.15254.603',\n",
    "            'Mozilla/5.0 (Windows NT 10.0; Win64; x64; Xbox; Xbox One) AppleWebKit/537.36 (KHTML, like Gecko) Chrome/98.0.4758.102 Safari/537.36 Edge/44.18363.8131',\n",
    "            'Mozilla/5.0 (CrKey armv7l 1.5.16041) AppleWebKit/537.36 (KHTML, like Gecko) Chrome/31.0.1650.0 Safari/537.36',\n",
    "            'Mozilla/5.0 (Linux; Android 5.1.1; AFTT Build/LVY48F; wv) AppleWebKit/537.36 (KHTML, like Gecko) Version/4.0 Chrome/49.0.2623.10',\n",
    "            'Dalvik/2.1.0 (Linux; U; Android 5.1; AFTM Build/LMY47O)',\n",
    "            'Mozilla/5.0 (Linux; Tizen 2.3) AppleWebKit/538.1 (KHTML, like Gecko)Version/2.3 TV Safari/538.1',\n",
    "            'Mozilla/5.0 (Web0S; Linux/SmartTV) AppleWebKit/537.36 (KHTML, like Gecko) QtWebEngine/5.2.1 Chr0me/38.0.2125.122 Safari/537.36 LG Browser/8.00.00(LGE; 60UH6550-UB; 03.00.15; 1; DTV_W16N); webOS.TV-2016; LG NetCast.TV-2013 Compatible (LGE, 60UH6550-UB, wireless)',\n",
    "            'Mozilla/5.0 (Linux; Android 7.0; SM-G892A Build/NRD90M; wv) AppleWebKit/537.36 (KHTML, like Gecko) Version/4.0 Chrome/60.0.3112.107 Mobile Safari/537.36',\n",
    "            'Mozilla/5.0 (Linux; Android 6.0.1; SM-G935S Build/MMB29K; wv) AppleWebKit/537.36 (KHTML, like Gecko) Version/4.0 Chrome/55.0.2883.91 Mobile Safari/537.36',\n",
    "            'Mozilla/5.0 (Linux; Android 6.0.1; E6653 Build/32.2.A.0.253) AppleWebKit/537.36 (KHTML, like Gecko) Chrome/52.0.2743.98 Mobile Safari/537.36',\n",
    "            'Mozilla/5.0 (Linux; Android 6.0; HTC One M9 Build/MRA58K) AppleWebKit/537.36 (KHTML, like Gecko) Chrome/52.0.2743.98 Mobile Safari/537.3'\n",
    "]\n",
    "agents = len(user_agents) - 1"
   ]
  },
  {
   "cell_type": "markdown",
   "metadata": {},
   "source": [
    "### Definicion de funciones para busqueda de valores"
   ]
  },
  {
   "cell_type": "code",
   "execution_count": null,
   "metadata": {},
   "outputs": [],
   "source": [
    "def get_only_fisrt_value(keys_and_values):\n",
    "    for key in keys_and_values:\n",
    "        datas = keys_and_values[key]\n",
    "        if len(datas) == 0:\n",
    "            keys_and_values[key] = ''\n",
    "        else:\n",
    "            keys_and_values[key] = keys_and_values[key][0]\n",
    "    return keys_and_values\n",
    "\n",
    "def search_all_coincidences(key, path, data_json):\n",
    "    coincidences = []\n",
    "    data_json = get_sub_path(path, data_json)\n",
    "    if isinstance(data_json, list):\n",
    "        for data in data_json:\n",
    "            if isinstance(data, dict) or isinstance(data, list):\n",
    "                coincidences = coincidences + search_all_coincidences(key, None, data)\n",
    "    else:\n",
    "        for data_key in data_json:\n",
    "            data = data_json[data_key]\n",
    "            if key == data_key:\n",
    "                coincidences.append(data)\n",
    "            elif isinstance(data, dict) or isinstance(data, list):\n",
    "                coincidences = coincidences + search_all_coincidences(key, None, data)\n",
    "    return coincidences\n",
    "\n",
    "def get_sub_path(path, data_json):\n",
    "    if path != None:\n",
    "        path = path.split('/')\n",
    "        for sub_path in path:\n",
    "            data_json = data_json[sub_path]\n",
    "    return data_json"
   ]
  },
  {
   "cell_type": "markdown",
   "metadata": {},
   "source": [
    "### Funcion para escritura de resultados"
   ]
  },
  {
   "cell_type": "code",
   "execution_count": null,
   "metadata": {},
   "outputs": [],
   "source": [
    "def write_in_file(page_cont, rows, keys_names):\n",
    "    file_name = \"./../generated/scrapy/cars/data\" + str(page_cont) + \".csv\"\n",
    "    with open(file_name, 'w', newline='', encoding='utf-8') as csvfile:\n",
    "        writer = csv.DictWriter(csvfile, fieldnames=keys_names)\n",
    "        writer.writeheader()\n",
    "        for data in rows:\n",
    "            writer.writerow(data)"
   ]
  },
  {
   "cell_type": "markdown",
   "metadata": {},
   "source": [
    "### Funciones para scrapy"
   ]
  },
  {
   "cell_type": "code",
   "execution_count": null,
   "metadata": {},
   "outputs": [],
   "source": [
    "def get_path(keys, key):\n",
    "    path = None\n",
    "    if isinstance(keys, dict):\n",
    "        path = keys[key]\n",
    "    return path\n",
    "\n",
    "def download_url(driver, page, rows):\n",
    "    driver.get(page)\n",
    "    page_source = driver.page_source\n",
    "    if page not in pages_without_interest:\n",
    "        initialPos = page_source.find('window.__INITIAL_PROPS__ = JSON.parse(')\n",
    "        lastPos = len(page_source)\n",
    "        page_source = page_source[initialPos : lastPos]\n",
    "        initialPos = 39\n",
    "        lastPos = page_source.find(');</script>') - 1\n",
    "        page_source = page_source[initialPos : lastPos]\n",
    "        page_source=page_source.replace('\\\\\\\\\\\\\\\"', '')\n",
    "        page_source=page_source.replace('\\\\\\\"', '\\\"')\n",
    "        data_json = json.loads(page_source)\n",
    "\n",
    "        # Prepare datas\n",
    "        keys_and_values = {}\n",
    "        for key in keys:\n",
    "            path = get_path(keys, key)\n",
    "            keys_and_values\n",
    "            keys_and_values[key] = search_all_coincidences(key, path, data_json)\n",
    "        keys_and_values = get_only_fisrt_value(keys_and_values)\n",
    "        rows.append(keys_and_values)\n",
    "    else:\n",
    "        print(\"Pagina sin interes: \" + page)"
   ]
  },
  {
   "cell_type": "code",
   "execution_count": null,
   "metadata": {},
   "outputs": [],
   "source": [
    "class BotException(Exception):\n",
    "    pass\n",
    "\n",
    "def download_datas(driver, pages):\n",
    "    \n",
    "    rows = []\n",
    "    \n",
    "    for i in range(len(pages)):\n",
    "        page = pages[i]\n",
    "        \n",
    "        try:\n",
    "            download_url(driver, page, rows)\n",
    "        except Exception as e:\n",
    "            print(\"Hubo algun problema con la url: \" + page)\n",
    "            print(e)\n",
    "        \n",
    "        page_source = driver.page_source\n",
    "        if \"Algo en tu navegador nos hizo pensar que eres un bot\" in page_source:\n",
    "            while True:\n",
    "                try:\n",
    "                    download_url(driver, page, rows)\n",
    "                    break\n",
    "                except Exception as e:\n",
    "                    print(\"Hubo algun problema con la url: \" + page)\n",
    "                    print(e)\n",
    "                print(\"Esperando resolucion de captcha\")\n",
    "                time.sleep(30)\n",
    "                print(\"Probando de nuevo\")\n",
    "    \n",
    "    return rows"
   ]
  },
  {
   "cell_type": "markdown",
   "metadata": {},
   "source": [
    "## Parametros y creacion de lista de urls para scrapy"
   ]
  },
  {
   "cell_type": "code",
   "execution_count": null,
   "metadata": {},
   "outputs": [],
   "source": [
    "keys = {'color': 'ad', 'fuelTypeId': 'ad', 'id': 'ad', 'km': 'ad', 'make': 'ad', 'makeId': 'ad', 'province': 'ad', 'provinceId': 'ad', 'title': 'ad', 'transmissionType': 'ad', 'transmissionTypeId': 'ad', 'year': 'ad'\n",
    "        , 'brand': 'leadData', 'brand_id': 'leadData', 'fuel_types': 'ad', 'model': 'leadData', 'model_id': 'leadData', 'price': 'leadData'\n",
    "        , 'seller_type': 'leadData', 'bodyType': 'vehicleInfo/specifications', 'cubicCapacity': 'vehicleInfo/specifications', 'doors': 'vehicleInfo/specifications'\n",
    "        , 'hp': 'vehicleInfo/specifications'}\n",
    "keys = {'color': 'ad','fuelTypeId': 'ad','id': 'ad','km': 'ad','make': 'ad','makeId': 'ad','province': 'ad','provinceId': 'ad','title': 'ad','transmissionType': 'ad','transmissionTypeId': 'ad','year': 'ad','brand': 'leadData','brand_id': 'leadData','fuel_types': 'ad','model': 'leadData','model_id': 'leadData','price': 'leadData','seller_type': 'leadData','bodyType': 'vehicleInfo/specifications','cubicCapacity': 'vehicleInfo/specifications','doors': 'vehicleInfo/specifications','hp': 'vehicleInfo/specifications','acceleration': 'vehicleInfo/specifications','consumptionAverage': 'vehicleInfo/specifications','consumptionExtraUrban': 'vehicleInfo/specifications','consumptionUrban': 'vehicleInfo/specifications','emissions': 'vehicleInfo/specifications','fuelTankCapacity': 'vehicleInfo/specifications','height': 'vehicleInfo/specifications','length': 'vehicleInfo/specifications','luggageCapacity': 'vehicleInfo/specifications','manufacturerPrice': 'vehicleInfo/specifications','seats': 'vehicleInfo/specifications','topSpeed': 'vehicleInfo/specifications','weight': 'vehicleInfo/specifications','width': 'vehicleInfo/specifications','seller_type': 'pageTrackingData'}\n",
    "keys_names = [ key for key in keys.keys() ]"
   ]
  },
  {
   "cell_type": "markdown",
   "metadata": {},
   "source": [
    "## Ejecucion"
   ]
  },
  {
   "cell_type": "markdown",
   "metadata": {},
   "source": [
    "### Creacion de driver chrome"
   ]
  },
  {
   "cell_type": "code",
   "execution_count": null,
   "metadata": {},
   "outputs": [],
   "source": [
    "def get_driver(page_cont):\n",
    "    patcher = uc.Patcher()\n",
    "    patcher.auto()\n",
    "    user_agent_for_page = user_agents[page_cont % agents]\n",
    "    options = webdriver.ChromeOptions() \n",
    "    # options.headless = True\n",
    "    options.add_argument('--disable-blink-features=AutomationControlled')\n",
    "    options.add_argument(user_agent_for_page)\n",
    "    driver = uc.Chrome(options=options, executable_path=patcher.executable_path)\n",
    "    driver.execute_cdp_cmd('Network.setUserAgentOverride', {\"userAgent\": user_agent_for_page})\n",
    "    return driver"
   ]
  },
  {
   "cell_type": "markdown",
   "metadata": {},
   "source": [
    "### Scrapy"
   ]
  },
  {
   "cell_type": "code",
   "execution_count": null,
   "metadata": {},
   "outputs": [],
   "source": [
    "urls_range, num_file = range(0, 1), 0\n",
    "\n",
    "pages_without_interest = [ 'https://www.coches.net', 'https://www.coches.net/segunda-mano' ]\n",
    "urls, url_files = [], []\n",
    "\n",
    "for num in urls_range:\n",
    "    f_r = open('./../generated/scrapy/urls/car_liks' + str(num) + '.json', \"r\")\n",
    "    urls.append(json.loads(f_r.read()))\n",
    "    f_r.close()\n",
    "\n",
    "for page in urls:\n",
    "    new_page = pages_without_interest[:]\n",
    "    for url in page:\n",
    "        new_page.append('https://www.coches.net' + url)\n",
    "    url_files.append(new_page)\n",
    "\n",
    "driver, all_rows, proccessed_pages, size_pages = get_driver(num_file), [], 0, len(url_files)\n",
    "\n",
    "for pages in url_files:\n",
    "    all_rows = all_rows + download_datas(driver, pages)\n",
    "    proccessed_pages = proccessed_pages + 1\n",
    "    print(\"Paginas procesadas: {}/{}\".format(proccessed_pages, size_pages))\n",
    "\n",
    "write_in_file(num_file, all_rows, keys_names)"
   ]
  }
 ],
 "metadata": {
  "interpreter": {
   "hash": "4b835444db5ea5e7e138d76352e12a39a6e80917d179a26fd81fa5db1971d4ec"
  },
  "kernelspec": {
   "display_name": "Python 3.10.0 64-bit ('nombre-proyecto-_zOcaY1a-py3.10': poetry)",
   "language": "python",
   "name": "python3"
  },
  "language_info": {
   "codemirror_mode": {
    "name": "ipython",
    "version": 3
   },
   "file_extension": ".py",
   "mimetype": "text/x-python",
   "name": "python",
   "nbconvert_exporter": "python",
   "pygments_lexer": "ipython3",
   "version": "3.10.2"
  },
  "orig_nbformat": 4
 },
 "nbformat": 4,
 "nbformat_minor": 2
}
