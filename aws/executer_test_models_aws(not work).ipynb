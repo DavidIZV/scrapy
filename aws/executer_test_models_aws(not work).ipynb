{
  "cells": [
    {
      "cell_type": "markdown",
      "metadata": {
        "id": "FMOSqK11gegm"
      },
      "source": [
        "# Entrenamiento"
      ]
    },
    {
      "cell_type": "markdown",
      "metadata": {
        "id": "SquMRWVhgvmk"
      },
      "source": [
        "## 1. Preprocesado"
      ]
    },
    {
      "cell_type": "markdown",
      "metadata": {
        "id": "uJTP_3sjBAOf"
      },
      "source": [
        "### 1.1. Lectura"
      ]
    },
    {
      "cell_type": "code",
      "execution_count": null,
      "metadata": {
        "id": "quL1bvsuIaKT"
      },
      "outputs": [],
      "source": [
        "import json\n",
        "import requests\n",
        "\n",
        "link='https://informatica.ieszaidinvergeles.org:10056/pia/scrapy/models/dictionary_manual_values_9.json'\n",
        "\n",
        "all_dictionaries={}\n",
        "\n",
        "f = requests.get(link)\n",
        "if f.status_code == 200:\n",
        "  all_dictionaries=json.loads(f.text)"
      ]
    },
    {
      "cell_type": "code",
      "execution_count": null,
      "metadata": {
        "colab": {
          "base_uri": "https://localhost:8080/"
        },
        "id": "JdiOU40anGxc",
        "outputId": "9b8c9574-e2ee-4a2f-ad54-05efb8cf9c7b"
      },
      "outputs": [],
      "source": [
        "all_dictionaries"
      ]
    },
    {
      "cell_type": "code",
      "execution_count": null,
      "metadata": {
        "colab": {
          "base_uri": "https://localhost:8080/"
        },
        "id": "p5hF7vNqgdcT",
        "outputId": "2fa95906-0bb8-4435-b0c7-b03fafc2c20c"
      },
      "outputs": [],
      "source": [
        "import pandas as pd\n",
        "\n",
        "url, names, dataframes = \"./cars/\", [ 'all.csv' ], []\n",
        "\n",
        "for name in names:\n",
        "  destiny = url + name.replace(' ', '%20')\n",
        "  print('Cargando: ' + destiny)\n",
        "  if 'csv' in name:\n",
        "    dataframes.append(pd.read_csv(destiny, delimiter=',', decimal=\".\", thousands=None))\n",
        "  else:\n",
        "    dataframes.append(pd.read_json(destiny))"
      ]
    },
    {
      "cell_type": "code",
      "execution_count": null,
      "metadata": {
        "id": "FyKFBHf9hRmq"
      },
      "outputs": [],
      "source": [
        "all = pd.concat(dataframes)"
      ]
    },
    {
      "cell_type": "markdown",
      "metadata": {
        "id": "0SfS7ULIBEvX"
      },
      "source": [
        "### 1.2. Procesado de datos nulos"
      ]
    },
    {
      "cell_type": "code",
      "execution_count": null,
      "metadata": {
        "colab": {
          "base_uri": "https://localhost:8080/"
        },
        "id": "o7atPXU7geHo",
        "outputId": "21df5d50-5788-45cb-f4ba-02656465bae9"
      },
      "outputs": [],
      "source": [
        "print(\"Datos iniciales | Longitud: {} | Num Columns: {}\".format(len(all), len(all.columns)))\n",
        "all=all.dropna(axis=1,how='all')\n",
        "print(\"Eliminados na or null on columns | Longitud: {} | Num Columns: {}\".format(len(all), len(all.columns)))\n",
        "all=all.dropna(axis=0)\n",
        "print(\"Eliminados na or null on rows | Longitud: {} | Num Columns: {}\".format(len(all), len(all.columns)))\n",
        "all=all.drop_duplicates()\n",
        "all=all.drop_duplicates(subset=['id'], keep='first')\n",
        "print(\"Eliminados duplicados | Longitud: {} | Num Columns: {}\".format(len(all), len(all.columns)))\n",
        "print(\"Datos finales | Longitud: {} | Num Columns: {}\".format(len(all), len(all.columns)))"
      ]
    },
    {
      "cell_type": "markdown",
      "metadata": {
        "id": "BNwrv-HbGWhh"
      },
      "source": [
        "### 1.3. Procesado columnas"
      ]
    },
    {
      "cell_type": "code",
      "execution_count": null,
      "metadata": {},
      "outputs": [],
      "source": [
        "all.columns"
      ]
    },
    {
      "cell_type": "code",
      "execution_count": null,
      "metadata": {
        "colab": {
          "base_uri": "https://localhost:8080/"
        },
        "id": "tiGNCHesBYsa",
        "outputId": "53ca53a7-cf18-426e-ef15-c1daf8007deb"
      },
      "outputs": [],
      "source": [
        "all.columns"
      ]
    },
    {
      "cell_type": "code",
      "execution_count": null,
      "metadata": {
        "colab": {
          "base_uri": "https://localhost:8080/",
          "height": 0
        },
        "id": "CLLXNlt5xuwU",
        "outputId": "ec6baf24-bfbb-445c-b69d-be0a26bf6a43"
      },
      "outputs": [],
      "source": [
        "import matplotlib.pyplot as plt\n",
        "import seaborn as sns\n",
        "\n",
        "plt.figure(figsize=(60,16))\n",
        "sns.set()\n",
        "sns.heatmap(all.corr(), square=True, annot=True,linewidths=0.1)"
      ]
    },
    {
      "cell_type": "code",
      "execution_count": null,
      "metadata": {
        "id": "dBjBWI8rGfcj"
      },
      "outputs": [],
      "source": [
        "columns_to_drop=['id','color','fuelTypeId','makeId','province','provinceId','title','transmissionTypeId','brand_id','luggageCapacity','consumptionAverage','consumptionExtraUrban','model_id','manufacturerPrice','seats','weight','emissions','fuelTankCapacity','height','luggageCapacity','brand','doors','topSpeed','consumptionUrban','model']\n",
        "all=all.drop(columns_to_drop, axis = 1)"
      ]
    },
    {
      "cell_type": "code",
      "execution_count": null,
      "metadata": {
        "colab": {
          "base_uri": "https://localhost:8080/"
        },
        "id": "oPCNq5xFpoLF",
        "outputId": "0be8cdee-bc60-4373-a358-aedc25677167"
      },
      "outputs": [],
      "source": [
        "all.columns"
      ]
    },
    {
      "cell_type": "code",
      "execution_count": null,
      "metadata": {
        "colab": {
          "base_uri": "https://localhost:8080/",
          "height": 0
        },
        "id": "2vpTCL7kGfec",
        "outputId": "5360d535-8009-4a43-c380-19256165d08b"
      },
      "outputs": [],
      "source": [
        "all.head(2)"
      ]
    },
    {
      "cell_type": "code",
      "execution_count": null,
      "metadata": {
        "id": "26odtUsqPCU7"
      },
      "outputs": [],
      "source": [
        "def columns_numeric_type(df,columns_names):\n",
        "  for columns_name in columns_names:\n",
        "    df[column_name]=pd.to_numeric(df[column_name])\n",
        "  return df"
      ]
    },
    {
      "cell_type": "code",
      "execution_count": null,
      "metadata": {
        "colab": {
          "base_uri": "https://localhost:8080/"
        },
        "id": "-T2IxwUAGfgg",
        "outputId": "29ab4eea-4fc8-432f-c677-b35df06c5adb"
      },
      "outputs": [],
      "source": [
        "qualitative_variable_names = [ e for e in all.select_dtypes(['object']).columns ]\n",
        "for column_name in qualitative_variable_names:\n",
        "  print(column_name, len(all[column_name].unique()))"
      ]
    },
    {
      "cell_type": "code",
      "execution_count": null,
      "metadata": {
        "id": "k7mZOI-gKUmS"
      },
      "outputs": [],
      "source": [
        "import operator\n",
        "\n",
        "def replace_for_numeric(df,column_name,initial,increaser,value_dictionary={}):\n",
        "  values=df[column_name].unique()\n",
        "  pos=initial\n",
        "  if len(value_dictionary) > 0:\n",
        "    max_dictionary=max(value_dictionary.items(), key=operator.itemgetter(1))[1]\n",
        "  else:\n",
        "    max_dictionary=initial\n",
        "  if max_dictionary > pos:\n",
        "    pos=max_dictionary+increaser\n",
        "  for value in values:\n",
        "    if value not in value_dictionary:\n",
        "      value_dictionary[value]=pos\n",
        "      df.loc[df[column_name] == value, column_name] = pos\n",
        "      pos=pos+increaser\n",
        "    else:\n",
        "      df.loc[df[column_name] == value, column_name] = value_dictionary[value]\n",
        "  df[column_name]=pd.to_numeric(df[column_name])\n",
        "  # print(\"Nuevos valores: \", df[column_name].unique())\n",
        "  return df,value_dictionary"
      ]
    },
    {
      "cell_type": "code",
      "execution_count": null,
      "metadata": {
        "colab": {
          "base_uri": "https://localhost:8080/"
        },
        "id": "iUqZ8zT9SL9U",
        "outputId": "a5ae2617-c88f-49a1-abb0-4385a295b9ab"
      },
      "outputs": [],
      "source": [
        "all.select_dtypes(['object']).columns"
      ]
    },
    {
      "cell_type": "code",
      "execution_count": null,
      "metadata": {
        "colab": {
          "base_uri": "https://localhost:8080/"
        },
        "id": "D2UhwXj2Ilfe",
        "outputId": "9c89cabc-bf87-48f6-8c95-d3a3248be10b"
      },
      "outputs": [],
      "source": [
        "all,word_dictionary=replace_for_numeric(all,'make',500,1000,all_dictionaries.get('make', {}))\n",
        "all_dictionaries['make']=word_dictionary\n",
        "all,word_dictionary=replace_for_numeric(all,'transmissionType',0,1,all_dictionaries.get('transmissionType', {}))\n",
        "all_dictionaries['transmissionType']=word_dictionary\n",
        "all,word_dictionary=replace_for_numeric(all,'seller_type',0,1,all_dictionaries.get('seller_type', {}))\n",
        "all_dictionaries['seller_type']=word_dictionary\n",
        "all,word_dictionary=replace_for_numeric(all,'bodyType',500,200,all_dictionaries.get('bodyType', {}))\n",
        "all_dictionaries['bodyType']=word_dictionary\n",
        "print(all_dictionaries)"
      ]
    },
    {
      "cell_type": "markdown",
      "metadata": {
        "id": "cOqjDQQqUV3S"
      },
      "source": [
        "### 1.4. Muestra de datos finales"
      ]
    },
    {
      "cell_type": "code",
      "execution_count": null,
      "metadata": {},
      "outputs": [],
      "source": [
        "all.columns"
      ]
    },
    {
      "cell_type": "code",
      "execution_count": null,
      "metadata": {
        "colab": {
          "base_uri": "https://localhost:8080/",
          "height": 81
        },
        "id": "oPy5ErciF2a0",
        "outputId": "962a301a-a7df-40d8-ff24-c4bad046f742"
      },
      "outputs": [],
      "source": [
        "all.tail(10)"
      ]
    },
    {
      "cell_type": "markdown",
      "metadata": {
        "id": "u-vd_WdDFxuH"
      },
      "source": [
        "### 1.5. Split"
      ]
    },
    {
      "cell_type": "code",
      "execution_count": null,
      "metadata": {
        "id": "1jVcf8j_UWGe"
      },
      "outputs": [],
      "source": [
        "from sklearn.model_selection import train_test_split as tts\n",
        "\n",
        "all_x_data = all.drop('price', axis = 1)\n",
        "all_y_data = all['price']\n",
        "\n",
        "x_train, x_test, y_train, y_test = tts(all_x_data, all_y_data, random_state = 1, test_size = 0.20)\n",
        "\n",
        "def print_bests(results, limit=5):\n",
        "  best_results=sorted(results, key = lambda x: x.get('score'), reverse=True)[:limit]\n",
        "  for best_result in best_results:\n",
        "    print(\"score: {} | model_name: {}\".format(best_result.get('score'), best_result.get('model_name')))\n",
        "  return best_results\n",
        "\n",
        "\n",
        "max_i=50\n",
        "max_i_min=30\n",
        "\n",
        "# max_i=15\n",
        "# max_i_min=10\n",
        "\n",
        "# max_i=25\n",
        "# max_i_min=15"
      ]
    },
    {
      "cell_type": "markdown",
      "metadata": {
        "id": "h1O1oVsIAyEJ"
      },
      "source": [
        "## 2. Carga XGBoost"
      ]
    },
    {
      "cell_type": "markdown",
      "metadata": {},
      "source": [
        "### Dependencias"
      ]
    },
    {
      "cell_type": "code",
      "execution_count": null,
      "metadata": {},
      "outputs": [],
      "source": [
        "pip install xgboost"
      ]
    },
    {
      "cell_type": "code",
      "execution_count": null,
      "metadata": {},
      "outputs": [],
      "source": [
        "pip install sagemaker-scikit-learn-extension"
      ]
    },
    {
      "cell_type": "code",
      "execution_count": null,
      "metadata": {},
      "outputs": [],
      "source": [
        "conda install -c mlio -c conda-forge mlio-py==0.7"
      ]
    },
    {
      "cell_type": "markdown",
      "metadata": {
        "id": "_o7xMexlAz0J"
      },
      "source": [
        "### 2.4. Prueba"
      ]
    },
    {
      "cell_type": "code",
      "execution_count": null,
      "metadata": {},
      "outputs": [],
      "source": [
        "import xgboost as xgb\n",
        "from sklearn.metrics import mean_squared_error\n",
        "import pandas as pd\n",
        "import numpy as np"
      ]
    },
    {
      "cell_type": "code",
      "execution_count": null,
      "metadata": {},
      "outputs": [],
      "source": [
        "model_xgb_2 = xgb.XGBRegressor()\n",
        "model_xgb_2.load_model(\"./models/xgboost-model-0\")"
      ]
    },
    {
      "cell_type": "code",
      "execution_count": null,
      "metadata": {},
      "outputs": [],
      "source": [
        "to_test=all[-10:]\n",
        "to_test"
      ]
    },
    {
      "cell_type": "code",
      "execution_count": null,
      "metadata": {},
      "outputs": [],
      "source": [
        "to_test_x_data = to_test.drop('price', axis = 1)\n",
        "to_test_y_data = to_test['price']"
      ]
    },
    {
      "cell_type": "code",
      "execution_count": null,
      "metadata": {},
      "outputs": [],
      "source": [
        "from dpp1 import build_feature_transform"
      ]
    },
    {
      "cell_type": "code",
      "execution_count": null,
      "metadata": {},
      "outputs": [],
      "source": [
        "pipeline_to_change_dataframe=build_feature_transform()\n",
        "pipeline_to_change_dataframe.fit_transform(to_test_x_data)\n",
        "AWS_to_test_x_data=pipeline_to_change_dataframe.transform(to_test_x_data)"
      ]
    },
    {
      "cell_type": "code",
      "execution_count": null,
      "metadata": {},
      "outputs": [],
      "source": [
        "AWS_to_test_x_data.tolist()"
      ]
    },
    {
      "cell_type": "code",
      "execution_count": null,
      "metadata": {},
      "outputs": [],
      "source": [
        "prediction = model_xgb_2.predict(AWS_to_test_x_data)\n",
        "prediction"
      ]
    }
  ],
  "metadata": {
    "colab": {
      "collapsed_sections": [
        "uJTP_3sjBAOf",
        "0SfS7ULIBEvX",
        "BNwrv-HbGWhh",
        "u-vd_WdDFxuH",
        "h1O1oVsIAyEJ"
      ],
      "name": "12.2 - Modelos finales.ipynb",
      "provenance": []
    },
    "kernelspec": {
      "display_name": "Python 3",
      "name": "python3"
    },
    "language_info": {
      "codemirror_mode": {
        "name": "ipython",
        "version": 3
      },
      "file_extension": ".py",
      "mimetype": "text/x-python",
      "name": "python",
      "nbconvert_exporter": "python",
      "pygments_lexer": "ipython3",
      "version": "3.10.2"
    }
  },
  "nbformat": 4,
  "nbformat_minor": 0
}
