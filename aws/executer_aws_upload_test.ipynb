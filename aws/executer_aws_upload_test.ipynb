{
 "cells": [
  {
   "cell_type": "markdown",
   "metadata": {},
   "source": [
    "# Para creacion en AWS"
   ]
  },
  {
   "cell_type": "markdown",
   "metadata": {},
   "source": [
    "## Dependencias"
   ]
  },
  {
   "cell_type": "code",
   "execution_count": null,
   "metadata": {},
   "outputs": [],
   "source": [
    "pip install boto3"
   ]
  },
  {
   "cell_type": "code",
   "execution_count": null,
   "metadata": {},
   "outputs": [],
   "source": [
    "pip install sagemaker"
   ]
  },
  {
   "cell_type": "markdown",
   "metadata": {},
   "source": [
    "## Carga de los datos"
   ]
  },
  {
   "cell_type": "code",
   "execution_count": null,
   "metadata": {},
   "outputs": [],
   "source": [
    "import numpy as np\n",
    "import pandas as pd\n",
    "\n",
    "data = pd.read_csv('./cars/all_aws.csv')\n",
    "\n",
    "train_data, test_data, _ = np.split(data.sample(frac=1, random_state=123),[int(0.70*len(data)), int(len(data))])\n",
    "\n",
    "train_data.to_csv('train_all_aws.csv', index=False, header=True, sep=',')\n",
    "test_data.to_csv('test_all_aws.csv', index=False, header=True, sep=',')\n",
    "\n",
    "data.tail(5)"
   ]
  },
  {
   "cell_type": "markdown",
   "metadata": {},
   "source": [
    "## Subida de los datos a S3"
   ]
  },
  {
   "cell_type": "code",
   "execution_count": null,
   "metadata": {},
   "outputs": [],
   "source": [
    "from sagemaker.local import LocalSession\n",
    "\n",
    "sagemaker_session = LocalSession()\n",
    "sagemaker_session.config = {'local': {'local_code': True}}"
   ]
  },
  {
   "cell_type": "code",
   "execution_count": null,
   "metadata": {},
   "outputs": [],
   "source": [
    "import sagemaker\n",
    "session = sagemaker.Session()\n",
    "uri = session.upload_data(path='train_all_aws.csv', key_prefix='sagemaker/cochesnet/input')\n",
    "print(uri)"
   ]
  },
  {
   "cell_type": "markdown",
   "metadata": {},
   "source": [
    "## Prueba del cliente desplegado"
   ]
  },
  {
   "cell_type": "code",
   "execution_count": null,
   "metadata": {},
   "outputs": [],
   "source": [
    "#una vez que se haya obtenido el modelo, se despliega, y se prueba\n",
    "import boto3\n",
    "import sys\n",
    "\n",
    "client = boto3.Session().client('runtime.sagemaker', region_name='us-east-1')\n",
    "endpoint = 'CochesNetAwsExpEndPoint'\n",
    "\n",
    "data_test = pd.read_csv('test_all_aws.csv')\n",
    "\n",
    "data_x_test = data_test.drop('price', axis = 1)\n",
    "data_y_test = data_test['price']\n",
    "column_names=\",\".join(list(data_x_test.columns))\n",
    "\n",
    "for index, row in data_x_test.iterrows():\n",
    "\n",
    "    line=column_names+\"\\n\"+\",\".join([str(e) for e in row.tolist()])\n",
    "\n",
    "    response = client.invoke_endpoint(EndpointName=endpoint, ContentType='text/csv', Accept='text/csv', Body=line)\n",
    "    response = response['Body'].read().decode('utf-8')\n",
    "    response = response.split(',')[1]\n",
    "\n",
    "    right=data_test.iloc[index]['price'].tolist()\n",
    "\n",
    "    print(f'Response: {response} || Right: {right}')\n",
    "    print(f'Response: {response} || Right: {right}')\n",
    "    break"
   ]
  }
 ],
 "metadata": {
  "instance_type": "ml.t3.medium",
  "interpreter": {
   "hash": "63bac9fc0e2683f90338921b7489c1c6e9c544888112e1968d36f9985231fe20"
  },
  "kernelspec": {
   "display_name": "Python 3 (Data Science)",
   "language": "python",
   "name": "python3"
  },
  "language_info": {
   "codemirror_mode": {
    "name": "ipython",
    "version": 3
   },
   "file_extension": ".py",
   "mimetype": "text/x-python",
   "name": "python",
   "nbconvert_exporter": "python",
   "pygments_lexer": "ipython3",
   "version": "3.10.2"
  }
 },
 "nbformat": 4,
 "nbformat_minor": 4
}
